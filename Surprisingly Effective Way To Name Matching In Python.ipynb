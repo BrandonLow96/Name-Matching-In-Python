{
 "cells": [
  {
   "cell_type": "markdown",
   "metadata": {},
   "source": [
    "# Surprisingly Effective Way To Name Matching In Python\n",
    "\n"
   ]
  },
  {
   "cell_type": "markdown",
   "metadata": {},
   "source": [
    "![Image](headerroomtype.png)"
   ]
  },
  {
   "cell_type": "markdown",
   "metadata": {},
   "source": [
    "These are the same room types but were taken as different forms, i.e., deal with different versions of same name.\n",
    "\n",
    "\n",
    "**In this workbook, we will deal with matching the different versions of one name for room types so that we can create a master record for further analysis.**\n",
    "\n",
    "\n",
    "**Get the Dataset** : [Room Types Dataset](https://github.com/maladeep/Name-Matching-In-Python/blob/master/room_type.csv)\n",
    "\n",
    "**Detail Explanation** : [Surprisingly Effective Way To Name Matching In Python](https://medium.com/@maladeep.upadhaya/surprisingly-effective-way-to-name-matching-in-python-1a67328e670e)"
   ]
  },
  {
   "cell_type": "code",
   "execution_count": 14,
   "metadata": {},
   "outputs": [
    {
     "data": {
      "text/html": [
       "<div>\n",
       "<style scoped>\n",
       "    .dataframe tbody tr th:only-of-type {\n",
       "        vertical-align: middle;\n",
       "    }\n",
       "\n",
       "    .dataframe tbody tr th {\n",
       "        vertical-align: top;\n",
       "    }\n",
       "\n",
       "    .dataframe thead th {\n",
       "        text-align: right;\n",
       "    }\n",
       "</style>\n",
       "<table border=\"1\" class=\"dataframe\">\n",
       "  <thead>\n",
       "    <tr style=\"text-align: right;\">\n",
       "      <th></th>\n",
       "      <th>RoomTypes</th>\n",
       "    </tr>\n",
       "  </thead>\n",
       "  <tbody>\n",
       "    <tr>\n",
       "      <td>0</td>\n",
       "      <td>Deluxe Room, 1 King Bed</td>\n",
       "    </tr>\n",
       "    <tr>\n",
       "      <td>1</td>\n",
       "      <td>Standard Room, 1 King Bed, Accessible</td>\n",
       "    </tr>\n",
       "    <tr>\n",
       "      <td>2</td>\n",
       "      <td>Grand Corner King Room, 1 King Bed</td>\n",
       "    </tr>\n",
       "    <tr>\n",
       "      <td>3</td>\n",
       "      <td>Suite, 1 King Bed (Parlor)</td>\n",
       "    </tr>\n",
       "    <tr>\n",
       "      <td>4</td>\n",
       "      <td>High-Floor Premium Room, 1 King Bed</td>\n",
       "    </tr>\n",
       "  </tbody>\n",
       "</table>\n",
       "</div>"
      ],
      "text/plain": [
       "                               RoomTypes\n",
       "0  Deluxe Room, 1 King Bed              \n",
       "1  Standard Room, 1 King Bed, Accessible\n",
       "2  Grand Corner King Room, 1 King Bed   \n",
       "3  Suite, 1 King Bed (Parlor)           \n",
       "4  High-Floor Premium Room, 1 King Bed  "
      ]
     },
     "execution_count": 14,
     "metadata": {},
     "output_type": "execute_result"
    }
   ],
   "source": [
    "#  Importing libraries and module and some setting for notebook\n",
    "\n",
    "import pandas as pd \n",
    "import re\n",
    "from sklearn.feature_extraction.text import TfidfVectorizer\n",
    "import numpy as np\n",
    "from scipy.sparse import csr_matrix\n",
    "import sparse_dot_topn.sparse_dot_topn as ct  #Cosine Similarity\n",
    "import time\n",
    "pd.set_option('display.max_colwidth', -1)\n",
    "\n",
    "\n",
    "# reading dataset as df\n",
    "\n",
    "df =  pd.read_csv('room_type.csv')\n",
    "\n",
    "# printing first five rows\n",
    "\n",
    "df.head(5)"
   ]
  },
  {
   "cell_type": "markdown",
   "metadata": {},
   "source": [
    "## ngrams "
   ]
  },
  {
   "cell_type": "code",
   "execution_count": 15,
   "metadata": {},
   "outputs": [
    {
     "name": "stdout",
     "output_type": "stream",
     "text": [
      "All 3-grams in \"Deluxroom\":\n"
     ]
    },
    {
     "data": {
      "text/plain": [
       "['Del', 'elu', 'lux', 'uxr', 'xro', 'roo', 'oom']"
      ]
     },
     "execution_count": 15,
     "metadata": {},
     "output_type": "execute_result"
    }
   ],
   "source": [
    "#  ngrams(here we are taking n = 3 thus 3-gram (trigrams ) as  most room types only contain two or three words\n",
    "#  used for cleaning and removing some punctuation (dots, comma’s etc) i.e.((,-./)) from a string \n",
    "#  and generate and collect all n-grams of the string.  \n",
    "\n",
    " \n",
    "def ngrams(string, n=3):\n",
    "\n",
    "    string = re.sub(r'[,-./]|\\sBD',r'', string)\n",
    "    ngrams = zip(*[string[i:] for i in range(n)])\n",
    "    return [''.join(ngram) for ngram in ngrams]\n",
    "\n",
    "\n",
    "\n",
    "\n",
    "\n",
    "# Testing ngrams work for verification \n",
    "\n",
    "print('All 3-grams in \"Deluxroom\":')\n",
    "ngrams('Deluxroom')"
   ]
  },
  {
   "cell_type": "markdown",
   "metadata": {},
   "source": [
    "## TF-IDF and Vectorization"
   ]
  },
  {
   "cell_type": "code",
   "execution_count": 16,
   "metadata": {},
   "outputs": [],
   "source": [
    "# After having each words split (token or  lemmas (n-gram generated items) ) into a vector and\n",
    "# Scikit-learn’s  Tfidfvectorizer aim to do the same thing, which is to convert a collection of raw documents to a matrix of TF-IDF features. \n",
    "# Generate the matrix of TF-IDF (Term Frequency-Inverse Document frequency)values for each\n",
    "\n",
    "room_types = df['RoomTypes']\n",
    "vectorizer = TfidfVectorizer(min_df=1, analyzer=ngrams)\n",
    "tf_idf_matrix = vectorizer.fit_transform(room_types)\n"
   ]
  },
  {
   "cell_type": "code",
   "execution_count": 17,
   "metadata": {},
   "outputs": [
    {
     "name": "stdout",
     "output_type": "stream",
     "text": [
      "  (0, 113)\t0.1605304445953455\n",
      "  (0, 29)\t0.16141635519747793\n",
      "  (0, 318)\t0.22675894223265677\n",
      "  (0, 452)\t0.18208940066082585\n",
      "  (0, 371)\t0.17370536296468006\n",
      "  (0, 140)\t0.17886291412226296\n",
      "  (0, 46)\t0.18887063512800203\n",
      "  (0, 99)\t0.2517854902990057\n",
      "  (0, 24)\t0.23022653423352535\n",
      "  (0, 412)\t0.2609327210548879\n",
      "  (0, 473)\t0.15046703253147248\n",
      "  (0, 480)\t0.13094460588705156\n",
      "  (0, 168)\t0.1363445719787321\n",
      "  (0, 62)\t0.16141635519747793\n",
      "  (0, 279)\t0.28518161479728127\n",
      "  (0, 612)\t0.2882757113194961\n",
      "  (0, 596)\t0.2882757113194961\n",
      "  (0, 409)\t0.2882757113194961\n",
      "  (0, 297)\t0.2882757113194961\n",
      "  (0, 120)\t0.2882757113194961\n"
     ]
    }
   ],
   "source": [
    "# View sparse CSR matrix.\n",
    "print(tf_idf_matrix[0])\n"
   ]
  },
  {
   "cell_type": "markdown",
   "metadata": {},
   "source": [
    "## Optimized Cosine Similarity  by  sparse_dot_topn \n",
    "####  Created by [ING Wholesale Banking Advanced Analytics team](https://medium.com/wbaa/what-does-ing-wb-advanced-analytics-do-707a09175530)"
   ]
  },
  {
   "cell_type": "code",
   "execution_count": 28,
   "metadata": {},
   "outputs": [],
   "source": [
    "# calculate the similarity between two vectors of TF-IDF values the Cosine Similarity is usually used.\n",
    "# result matrix in a very sparse terms and Scikit-learn deals with this nicely by returning a sparse CSR matrix.\n",
    "\n",
    "def awesome_cossim_top(A, B, ntop, lower_bound=0):\n",
    "    # force A and B as a CSR matrix.\n",
    "    # If they have already been CSR, there is no overhead\n",
    "    A = A.tocsr()\n",
    "    B = B.tocsr()\n",
    "    M, _ = A.shape\n",
    "    _, N = B.shape\n",
    " \n",
    "    idx_dtype = np.int32\n",
    " \n",
    "    nnz_max = M*ntop\n",
    " \n",
    "    indptr = np.zeros(M+1, dtype=idx_dtype)\n",
    "    indices = np.zeros(nnz_max, dtype=idx_dtype)\n",
    "    data = np.zeros(nnz_max, dtype=A.dtype)\n",
    "\n",
    "    ct.sparse_dot_topn(\n",
    "        M, N, np.asarray(A.indptr, dtype=idx_dtype),\n",
    "        np.asarray(A.indices, dtype=idx_dtype),\n",
    "        A.data,\n",
    "        np.asarray(B.indptr, dtype=idx_dtype),\n",
    "        np.asarray(B.indices, dtype=idx_dtype),\n",
    "        B.data,\n",
    "        ntop,\n",
    "        lower_bound,\n",
    "        indptr, indices, data)\n",
    "\n",
    "    return csr_matrix((data,indices,indptr),shape=(M,N))\n"
   ]
  },
  {
   "cell_type": "code",
   "execution_count": 29,
   "metadata": {},
   "outputs": [
    {
     "name": "stdout",
     "output_type": "stream",
     "text": [
      "SELFTIMED: 0.0019731521606445312\n"
     ]
    }
   ],
   "source": [
    "#  Run the optimized cosine similarity function. \n",
    "#  Only stores the top 10 most similar items with a similarity above 0.8\n",
    "\n",
    "t1 = time.time()\n",
    "matches = awesome_cossim_top(tf_idf_matrix, tf_idf_matrix.transpose(), 10, 0.8)\n",
    "t = time.time()-t1\n",
    "print(\"SELFTIMED:\", t)"
   ]
  },
  {
   "cell_type": "code",
   "execution_count": 25,
   "metadata": {},
   "outputs": [],
   "source": [
    "# unpacks the resulting sparse matrix\n",
    "\n",
    "def get_matches_df(sparse_matrix, name_vector, top=100):\n",
    "    non_zeros = sparse_matrix.nonzero()\n",
    "    \n",
    "    sparserows = non_zeros[0]\n",
    "    sparsecols = non_zeros[1]\n",
    "    \n",
    "    if top:\n",
    "        nr_matches = top\n",
    "    else:\n",
    "        nr_matches = sparsecols.size\n",
    "    \n",
    "    left_side = np.empty([nr_matches], dtype=object)\n",
    "    right_side = np.empty([nr_matches], dtype=object)\n",
    "    similairity = np.zeros(nr_matches)\n",
    "    \n",
    "    for index in range(0, nr_matches):\n",
    "        left_side[index] = name_vector[sparserows[index]]\n",
    "        right_side[index] = name_vector[sparsecols[index]]\n",
    "        similairity[index] = sparse_matrix.data[index]\n",
    "    \n",
    "    return pd.DataFrame({'left_side': left_side,\n",
    "                          'right_side': right_side,\n",
    "                           'similairity': similairity})"
   ]
  },
  {
   "cell_type": "code",
   "execution_count": 26,
   "metadata": {},
   "outputs": [
    {
     "data": {
      "text/html": [
       "<div>\n",
       "<style scoped>\n",
       "    .dataframe tbody tr th:only-of-type {\n",
       "        vertical-align: middle;\n",
       "    }\n",
       "\n",
       "    .dataframe tbody tr th {\n",
       "        vertical-align: top;\n",
       "    }\n",
       "\n",
       "    .dataframe thead th {\n",
       "        text-align: right;\n",
       "    }\n",
       "</style>\n",
       "<table border=\"1\" class=\"dataframe\">\n",
       "  <thead>\n",
       "    <tr style=\"text-align: right;\">\n",
       "      <th></th>\n",
       "      <th>left_side</th>\n",
       "      <th>right_side</th>\n",
       "      <th>similairity</th>\n",
       "    </tr>\n",
       "  </thead>\n",
       "  <tbody>\n",
       "    <tr>\n",
       "      <td>121</td>\n",
       "      <td>Room, Ocean View</td>\n",
       "      <td>Room, Ocean View</td>\n",
       "      <td>0.946453</td>\n",
       "    </tr>\n",
       "    <tr>\n",
       "      <td>6</td>\n",
       "      <td>Grand Corner King Room, 1 King Bed</td>\n",
       "      <td>Grand Corner King Room</td>\n",
       "      <td>0.933038</td>\n",
       "    </tr>\n",
       "    <tr>\n",
       "      <td>105</td>\n",
       "      <td>Premium Room, 1 Queen Bed</td>\n",
       "      <td>Premium Room, 2 Queen Beds</td>\n",
       "      <td>0.816652</td>\n",
       "    </tr>\n",
       "    <tr>\n",
       "      <td>151</td>\n",
       "      <td>Junior Suite, 1 King Bed, Accessible (Roll-in Shower)</td>\n",
       "      <td>Junior Suite - Accessible Roll-in Shower</td>\n",
       "      <td>0.807198</td>\n",
       "    </tr>\n",
       "    <tr>\n",
       "      <td>57</td>\n",
       "      <td>Luxury Room, 1 Queen Bed, Non Smoking</td>\n",
       "      <td>Luxury Room, 1 King Bed, Non Smoking</td>\n",
       "      <td>0.864465</td>\n",
       "    </tr>\n",
       "    <tr>\n",
       "      <td>36</td>\n",
       "      <td>Suite, 1 Bedroom</td>\n",
       "      <td>Deluxe Suite, 1 Bedroom</td>\n",
       "      <td>0.813644</td>\n",
       "    </tr>\n",
       "    <tr>\n",
       "      <td>184</td>\n",
       "      <td>Premium Two Queen</td>\n",
       "      <td>Club Premium Two Queen</td>\n",
       "      <td>0.840570</td>\n",
       "    </tr>\n",
       "    <tr>\n",
       "      <td>40</td>\n",
       "      <td>Club Room, City View (Club Lounge Access for 2 guests)</td>\n",
       "      <td>Club Room, Lake View (Club Lounge Access for 2 guests)</td>\n",
       "      <td>0.875506</td>\n",
       "    </tr>\n",
       "    <tr>\n",
       "      <td>59</td>\n",
       "      <td>Luxury Room, 1 King Bed, Non Smoking</td>\n",
       "      <td>Luxury Room, 1 Queen Bed, Non Smoking</td>\n",
       "      <td>0.864465</td>\n",
       "    </tr>\n",
       "    <tr>\n",
       "      <td>25</td>\n",
       "      <td>Signature Room, 1 King Bed</td>\n",
       "      <td>Signature King</td>\n",
       "      <td>0.829876</td>\n",
       "    </tr>\n",
       "  </tbody>\n",
       "</table>\n",
       "</div>"
      ],
      "text/plain": [
       "                                                  left_side  \\\n",
       "121  Room, Ocean View                                         \n",
       "6    Grand Corner King Room, 1 King Bed                       \n",
       "105  Premium Room, 1 Queen Bed                                \n",
       "151  Junior Suite, 1 King Bed, Accessible (Roll-in Shower)    \n",
       "57   Luxury Room, 1 Queen Bed, Non Smoking                    \n",
       "36   Suite, 1 Bedroom                                         \n",
       "184  Premium Two Queen                                        \n",
       "40   Club Room, City View (Club Lounge Access for 2 guests)   \n",
       "59   Luxury Room, 1 King Bed, Non Smoking                     \n",
       "25   Signature Room, 1 King Bed                               \n",
       "\n",
       "                                                 right_side  similairity  \n",
       "121  Room, Ocean View                                        0.946453     \n",
       "6    Grand Corner King Room                                  0.933038     \n",
       "105  Premium Room, 2 Queen Beds                              0.816652     \n",
       "151  Junior Suite - Accessible Roll-in Shower                0.807198     \n",
       "57   Luxury Room, 1 King Bed, Non Smoking                    0.864465     \n",
       "36   Deluxe Suite, 1 Bedroom                                 0.813644     \n",
       "184  Club Premium Two Queen                                  0.840570     \n",
       "40   Club Room, Lake View (Club Lounge Access for 2 guests)  0.875506     \n",
       "59   Luxury Room, 1 Queen Bed, Non Smoking                   0.864465     \n",
       "25   Signature King                                          0.829876     "
      ]
     },
     "execution_count": 26,
     "metadata": {},
     "output_type": "execute_result"
    }
   ],
   "source": [
    "# store the  matches into new dataframe called matched_df and printing 10 samples\n",
    "\n",
    "matches_df = get_matches_df(matches, room_types, top=200)\n",
    "matches_df = matches_df[matches_df['similairity'] < 0.99999] # For removing all exact matches\n",
    "matches_df.sample(10)"
   ]
  },
  {
   "cell_type": "markdown",
   "metadata": {},
   "source": [
    "The matches look pretty satisfying!\n",
    "\n",
    "The cossine similarity gives a good indication of the similarity between the two room types.\n",
    "\n",
    "**Deluxe Suite, 1 Bedroom**\tand **Suite, 1 Bedroom** are probably not the same room type and we got the  **similarity measure of 0.81.**"
   ]
  },
  {
   "cell_type": "code",
   "execution_count": 22,
   "metadata": {},
   "outputs": [
    {
     "data": {
      "text/html": [
       "<div>\n",
       "<style scoped>\n",
       "    .dataframe tbody tr th:only-of-type {\n",
       "        vertical-align: middle;\n",
       "    }\n",
       "\n",
       "    .dataframe tbody tr th {\n",
       "        vertical-align: top;\n",
       "    }\n",
       "\n",
       "    .dataframe thead th {\n",
       "        text-align: right;\n",
       "    }\n",
       "</style>\n",
       "<table border=\"1\" class=\"dataframe\">\n",
       "  <thead>\n",
       "    <tr style=\"text-align: right;\">\n",
       "      <th></th>\n",
       "      <th>left_side</th>\n",
       "      <th>right_side</th>\n",
       "      <th>similairity</th>\n",
       "    </tr>\n",
       "  </thead>\n",
       "  <tbody>\n",
       "    <tr>\n",
       "      <td>121</td>\n",
       "      <td>Room, Ocean View</td>\n",
       "      <td>Room, Ocean View</td>\n",
       "      <td>0.946453</td>\n",
       "    </tr>\n",
       "    <tr>\n",
       "      <td>138</td>\n",
       "      <td>Room, Ocean View</td>\n",
       "      <td>Room, Ocean View</td>\n",
       "      <td>0.946453</td>\n",
       "    </tr>\n",
       "    <tr>\n",
       "      <td>6</td>\n",
       "      <td>Grand Corner King Room, 1 King Bed</td>\n",
       "      <td>Grand Corner King Room</td>\n",
       "      <td>0.933038</td>\n",
       "    </tr>\n",
       "    <tr>\n",
       "      <td>158</td>\n",
       "      <td>Grand Corner King Room</td>\n",
       "      <td>Grand Corner King Room, 1 King Bed</td>\n",
       "      <td>0.933038</td>\n",
       "    </tr>\n",
       "    <tr>\n",
       "      <td>167</td>\n",
       "      <td>King Room - Disability Access</td>\n",
       "      <td>Queen Room - Disability Access</td>\n",
       "      <td>0.919632</td>\n",
       "    </tr>\n",
       "    <tr>\n",
       "      <td>168</td>\n",
       "      <td>King Room - Disability Access</td>\n",
       "      <td>Queen Room - Disability Access</td>\n",
       "      <td>0.919632</td>\n",
       "    </tr>\n",
       "    <tr>\n",
       "      <td>135</td>\n",
       "      <td>Standard Room, Ocean View (Waikiki Tower) - No Resort Fee</td>\n",
       "      <td>Standard Room, Partial Ocean View (Waikiki Tower) - No Resort Fee</td>\n",
       "      <td>0.905160</td>\n",
       "    </tr>\n",
       "    <tr>\n",
       "      <td>133</td>\n",
       "      <td>Standard Room, Partial Ocean View (Waikiki Tower) - No Resort Fee</td>\n",
       "      <td>Standard Room, Ocean View (Waikiki Tower) - No Resort Fee</td>\n",
       "      <td>0.905160</td>\n",
       "    </tr>\n",
       "    <tr>\n",
       "      <td>175</td>\n",
       "      <td>Two Double Beds - Location Room (19th to 25th Floors)</td>\n",
       "      <td>King Bed - Location Room (19th to 25th Floors)</td>\n",
       "      <td>0.875607</td>\n",
       "    </tr>\n",
       "    <tr>\n",
       "      <td>177</td>\n",
       "      <td>King Bed - Location Room (19th to 25th Floors)</td>\n",
       "      <td>Two Double Beds - Location Room (19th to 25th Floors)</td>\n",
       "      <td>0.875607</td>\n",
       "    </tr>\n",
       "  </tbody>\n",
       "</table>\n",
       "</div>"
      ],
      "text/plain": [
       "                                                             left_side  \\\n",
       "121  Room, Ocean View                                                    \n",
       "138  Room, Ocean View                                                    \n",
       "6    Grand Corner King Room, 1 King Bed                                  \n",
       "158  Grand Corner King Room                                              \n",
       "167  King Room - Disability Access                                       \n",
       "168  King Room - Disability Access                                       \n",
       "135  Standard Room, Ocean View (Waikiki Tower) - No Resort Fee           \n",
       "133  Standard Room, Partial Ocean View (Waikiki Tower) - No Resort Fee   \n",
       "175  Two Double Beds - Location Room (19th to 25th Floors)               \n",
       "177  King Bed - Location Room (19th to 25th Floors)                      \n",
       "\n",
       "                                                            right_side  \\\n",
       "121  Room, Ocean View                                                    \n",
       "138  Room, Ocean View                                                    \n",
       "6    Grand Corner King Room                                              \n",
       "158  Grand Corner King Room, 1 King Bed                                  \n",
       "167  Queen Room - Disability Access                                      \n",
       "168  Queen Room - Disability Access                                      \n",
       "135  Standard Room, Partial Ocean View (Waikiki Tower) - No Resort Fee   \n",
       "133  Standard Room, Ocean View (Waikiki Tower) - No Resort Fee           \n",
       "175  King Bed - Location Room (19th to 25th Floors)                      \n",
       "177  Two Double Beds - Location Room (19th to 25th Floors)               \n",
       "\n",
       "     similairity  \n",
       "121  0.946453     \n",
       "138  0.946453     \n",
       "6    0.933038     \n",
       "158  0.933038     \n",
       "167  0.919632     \n",
       "168  0.919632     \n",
       "135  0.905160     \n",
       "133  0.905160     \n",
       "175  0.875607     \n",
       "177  0.875607     "
      ]
     },
     "execution_count": 22,
     "metadata": {},
     "output_type": "execute_result"
    }
   ],
   "source": [
    "# printing the matched in sorted order \n",
    "\n",
    "matches_df.sort_values(['similairity'], ascending=False).head(10)"
   ]
  },
  {
   "cell_type": "markdown",
   "metadata": {},
   "source": [
    " ### So, exact visual assessment and the matches made with this strategy are very fulfilling.\n",
    " \n",
    " Using **ngram** with **TF-IDF** and **cosine similarity( [sparse_dot_topn library](https://github.com/ing-bank/sparse_dot_topn) )** we can **speed up string matching process even for large dataset** (for our case: 572000*12 )\n",
    " \n",
    "**For Detail understanding**: [Surprisingly Effective Way To Name Matching In Python](https://medium.com/@maladeep.upadhaya/surprisingly-effective-way-to-name-matching-in-python-1a67328e670e)\n",
    "\n",
    "\n"
   ]
  },
  {
   "cell_type": "markdown",
   "metadata": {},
   "source": [
    "Do not forget to clap for the [medium article](https://medium.com/@maladeep.upadhaya/surprisingly-effective-way-to-name-matching-in-python-1a67328e670e) and if there are any inquiries ping me on [Linkedin](https://www.linkedin.com/in/maladeep/)"
   ]
  },
  {
   "cell_type": "markdown",
   "metadata": {},
   "source": [
    "# Thank you for reading!\n"
   ]
  }
 ],
 "metadata": {
  "kernelspec": {
   "display_name": "Python 3",
   "language": "python",
   "name": "python3"
  },
  "language_info": {
   "codemirror_mode": {
    "name": "ipython",
    "version": 3
   },
   "file_extension": ".py",
   "mimetype": "text/x-python",
   "name": "python",
   "nbconvert_exporter": "python",
   "pygments_lexer": "ipython3",
   "version": "3.7.3"
  }
 },
 "nbformat": 4,
 "nbformat_minor": 2
}
